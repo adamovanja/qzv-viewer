{
 "cells": [
  {
   "cell_type": "markdown",
   "metadata": {},
   "source": [
    "# Demonstrating qzv-viewier\n",
    "\n",
    "VScode functionality is not as easy to use as jupyter notebook, since\n",
    "* two methods must be run to view and cleanup simple visualisations\n",
    "* Emperor plots are not supported "
   ]
  },
  {
   "cell_type": "code",
   "execution_count": null,
   "metadata": {},
   "outputs": [],
   "source": [
    "from qzv_viewer import display\n",
    "import os"
   ]
  },
  {
   "cell_type": "markdown",
   "metadata": {},
   "source": [
    "## Demo: VSCode\n",
    "\n",
    "iframe does not work in vscode - because of vscode notebook extension iframe setup see here: https://github.com/rebornix/notebook-test/issues/3"
   ]
  },
  {
   "cell_type": "code",
   "execution_count": null,
   "metadata": {},
   "outputs": [],
   "source": [
    "path_file = os.path.join('sample-qzv', 'accuracy_results.qzv')\n",
    "ls_files = display.display_qzv_vscode(path_file)"
   ]
  },
  {
   "cell_type": "code",
   "execution_count": null,
   "metadata": {},
   "outputs": [],
   "source": [
    "display.clean_up(ls_files)"
   ]
  },
  {
   "cell_type": "code",
   "execution_count": null,
   "metadata": {},
   "outputs": [],
   "source": [
    "path_file = os.path.join('sample-qzv', 'unweighted_unifrac_emperor.qzv')\n",
    "ls_files = display.display_qzv_vscode(path_file)"
   ]
  }
 ],
 "metadata": {
  "interpreter": {
   "hash": "6c21f9231e3e69007b331b5d4c7e490a6dba62a8777383ccc003576537b07d8e"
  },
  "kernelspec": {
   "name": "python3",
   "display_name": "Python 3.8.10 64-bit"
  },
  "language_info": {
   "codemirror_mode": {
    "name": "ipython",
    "version": 3
   },
   "file_extension": ".py",
   "mimetype": "text/x-python",
   "name": "python",
   "nbconvert_exporter": "python",
   "pygments_lexer": "ipython3",
   "version": "3.8.10"
  },
  "toc": {
   "base_numbering": 1,
   "nav_menu": {},
   "number_sections": true,
   "sideBar": true,
   "skip_h1_title": false,
   "title_cell": "Table of Contents",
   "title_sidebar": "Contents",
   "toc_cell": false,
   "toc_position": {},
   "toc_section_display": true,
   "toc_window_display": false
  }
 },
 "nbformat": 4,
 "nbformat_minor": 2
}