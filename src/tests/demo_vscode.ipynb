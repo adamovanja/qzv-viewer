{
 "cells": [
  {
   "cell_type": "markdown",
   "metadata": {},
   "source": [
    "# Demonstrating qzv-viewier\n",
    "\n",
    "VScode functionality is not as easy to use as jupyter notebook, since\n",
    "* two methods must be run to view and cleanup simple visualisations\n",
    "* Emperor plots are not supported "
   ]
  },
  {
   "cell_type": "code",
   "execution_count": 1,
   "metadata": {},
   "outputs": [],
   "source": [
    "from qzv_viewer import display\n",
    "import os"
   ]
  },
  {
   "cell_type": "markdown",
   "metadata": {},
   "source": [
    "## Demo: VSCode\n",
    "\n",
    "iframe does not work in vscode - because of vscode notebook extension iframe setup see here: https://github.com/rebornix/notebook-test/issues/3"
   ]
  },
  {
   "cell_type": "code",
   "execution_count": 2,
   "metadata": {},
   "outputs": [
    {
     "output_type": "stream",
     "name": "stdout",
     "text": [
      "\u001b[32mExtracted sample-qzv/accuracy_results.qzv to directory extract/d7d6079b-6b81-436a-88c6-b6fa128a1165\u001b[0m\n"
     ]
    },
    {
     "output_type": "display_data",
     "data": {
      "text/plain": "<IPython.core.display.HTML object>",
      "text/html": "<!DOCTYPE html>\n<html>\n  <head>\n    <meta charset='utf-8'>\n    <meta name=\"viewport\" content=\"width=device-width, initial-scale=1\">\n    <meta http-equiv=\"X-UA-Compatible\" content=\"IE=edge\">\n    <title>q2-sample-classifier : confusion matrix</title>\n    <link rel=\"stylesheet\" href=\"./q2templateassets/css/bootstrap.min.css\"/>\n    <link rel=\"stylesheet\" href=\"./q2templateassets/css/normalize.css\"/>\n    <link rel=\"stylesheet\" href=\"./q2templateassets/css/base-template.css\"/>\n    <script src=\"./q2templateassets/js/jquery-3.2.0.min.js\" charset=\"utf-8\"></script>\n    <script src=\"./q2templateassets/js/bootstrap.min.js\" charset=\"utf-8\"></script>\n    \n    \n  </head>\n  <body>\n    <div class=\"container\">\n      <div id=\"q2templatesheader\" class=\"row\">\n        <div class=\"col-lg-12\">\n          <a href=\"http://qiime2.org/\">\n            <img src=\"./q2templateassets/img/qiime2-rect-200.png\"\n            alt=\"QIIME 2\">\n          </a>\n        </div>\n      </div>\n        \n\n<div class=\"row\">\n  \n  <h1>Model Accuracy</h1>\n  \n  <div class=\"text-center\">\n    \n    <a href=\"predictions.pdf\">\n      <img src=\"predictions.png\">\n      <br>\n      <p>Download as PDF</p>\n    </a>\n    \n    \n    <div class=\"col-lg-12\">\n      <table border=\"0\" class=\"dataframe table table-striped table-hover\">\n  <thead>\n    <tr style=\"text-align: right;\">\n      <th></th>\n      <th>susceptible and Healthy</th>\n      <th>susceptible and PD</th>\n      <th>wild type and Healthy</th>\n      <th>wild type and PD</th>\n      <th>Overall Accuracy</th>\n    </tr>\n  </thead>\n  <tbody>\n    <tr>\n      <th>susceptible and Healthy</th>\n      <td>1.0</td>\n      <td>0.0</td>\n      <td>0.0</td>\n      <td>0.0</td>\n      <td></td>\n    </tr>\n    <tr>\n      <th>susceptible and PD</th>\n      <td>0.0</td>\n      <td>1.0</td>\n      <td>0.0</td>\n      <td>0.0</td>\n      <td></td>\n    </tr>\n    <tr>\n      <th>wild type and Healthy</th>\n      <td>0.333333</td>\n      <td>0.0</td>\n      <td>0.666667</td>\n      <td>0.0</td>\n      <td></td>\n    </tr>\n    <tr>\n      <th>wild type and PD</th>\n      <td>0.0</td>\n      <td>0.0</td>\n      <td>0.0</td>\n      <td>1.0</td>\n      <td></td>\n    </tr>\n    <tr>\n      <th>Overall Accuracy</th>\n      <td></td>\n      <td></td>\n      <td></td>\n      <td></td>\n      <td>0.9</td>\n    </tr>\n    <tr>\n      <th>Baseline Accuracy</th>\n      <td></td>\n      <td></td>\n      <td></td>\n      <td></td>\n      <td>0.3</td>\n    </tr>\n    <tr>\n      <th>Accuracy Ratio</th>\n      <td></td>\n      <td></td>\n      <td></td>\n      <td></td>\n      <td>3.0</td>\n    </tr>\n  </tbody>\n</table>\n      <a href=\"predictive_accuracy.tsv\">\n        <p>Download accuracy results as tsv</p>\n      </a>\n    </div>\n    \n    \n    <div class=\"col-lg-12\">\n      <h1>Receiver Operating Characteristic Curves</h1>\n      <a href=\"roc_plot.pdf\">\n        <img src=\"roc_plot.png\">\n        <br>\n        <p>Download as PDF</p>\n      </a>\n      <div class=\"text-justify\">\n        <p>Receiver Operating Characteristic (ROC) curves are a graphical\n        representation of the classification accuracy of a machine-learning\n        model. The ROC curve plots the relationship between the true positive\n        rate (TPR, on the y-axis) and the false positive rate (FPR, on the\n        x-axis) at various threshold settings. Thus, the top-left corner of the\n        plot represents the \"optimal\" performance position, indicating a FPR\n        of zero and a TPR of one. This \"optimal\" scenario is unlikely to occur\n        in practice, but a greater area under the curve (AUC) indicates better\n        performance. This can be compared to the error rate achieved by random\n        chance, which is represented here as a diagonal line extending from the\n        lower-left to upper-right corners. Additionally, the \"steepness\" of the\n        curve is important, as a good classifier should maximize the TPR while\n        minimizing the FPR.\n\n        In addition to showing the ROC curves for each class, average ROCs and\n        AUCs are calculated. \"Micro-averaging\" calculates metrics globally by\n        averaging across each sample; hence class imbalance impacts this metric.\n        \"Macro-averaging\" is another average metric, which gives equal weight to\n        the classification of each sample.</p>\n      </div>\n    </div>\n    \n    \n    \n  </div>\n</div>\n\n\n    </div>\n    <script type=\"text/javascript\">\n      if (window.frameElement) {\n          document.getElementById('q2templatesheader').remove();\n      }\n    </script>\n    \n    \n  </body>\n</html>"
     },
     "metadata": {}
    },
    {
     "output_type": "stream",
     "name": "stdout",
     "text": [
      "None\n",
      "/Users/anjaadamov/Documents/projects/09_qzv_viewer/qzv-viewer/src/qzv_viewer/display.py:104: UserWarning: To clean up working directory please run clean_up with returnedfilelist after this\n",
      "  warnings.warn(\n"
     ]
    }
   ],
   "source": [
    "path_file = os.path.join('sample-qzv', 'accuracy_results.qzv')\n",
    "ls_files = display.display_qzv_vscode(path_file)"
   ]
  },
  {
   "cell_type": "code",
   "execution_count": 3,
   "metadata": {},
   "outputs": [],
   "source": [
    "display.clean_up(ls_files)"
   ]
  },
  {
   "cell_type": "code",
   "execution_count": 4,
   "metadata": {},
   "outputs": [
    {
     "output_type": "stream",
     "name": "stdout",
     "text": [
      "\u001b[32mExtracted sample-qzv/unweighted_unifrac_emperor.qzv to directory extract/88faffc6-cdae-4675-9cf1-449f466c0acc\u001b[0m\n"
     ]
    },
    {
     "output_type": "error",
     "ename": "ValueError",
     "evalue": "Emperor files can not be displayed in VSCode",
     "traceback": [
      "\u001b[0;31m---------------------------------------------------------------------------\u001b[0m",
      "\u001b[0;31mValueError\u001b[0m                                Traceback (most recent call last)",
      "\u001b[0;32m/var/folders/xr/g3gw13yn05d3hqqgjglq4l4w0000gq/T/ipykernel_85559/2224436273.py\u001b[0m in \u001b[0;36m<module>\u001b[0;34m\u001b[0m\n\u001b[1;32m      1\u001b[0m \u001b[0mpath_file\u001b[0m \u001b[0;34m=\u001b[0m \u001b[0mos\u001b[0m\u001b[0;34m.\u001b[0m\u001b[0mpath\u001b[0m\u001b[0;34m.\u001b[0m\u001b[0mjoin\u001b[0m\u001b[0;34m(\u001b[0m\u001b[0;34m'sample-qzv'\u001b[0m\u001b[0;34m,\u001b[0m \u001b[0;34m'unweighted_unifrac_emperor.qzv'\u001b[0m\u001b[0;34m)\u001b[0m\u001b[0;34m\u001b[0m\u001b[0;34m\u001b[0m\u001b[0m\n\u001b[0;32m----> 2\u001b[0;31m \u001b[0mls_files\u001b[0m \u001b[0;34m=\u001b[0m \u001b[0mdisplay\u001b[0m\u001b[0;34m.\u001b[0m\u001b[0mdisplay_qzv_vscode\u001b[0m\u001b[0;34m(\u001b[0m\u001b[0mpath_file\u001b[0m\u001b[0;34m)\u001b[0m\u001b[0;34m\u001b[0m\u001b[0;34m\u001b[0m\u001b[0m\n\u001b[0m",
      "\u001b[0;32m~/Documents/projects/09_qzv_viewer/qzv-viewer/src/qzv_viewer/display.py\u001b[0m in \u001b[0;36mdisplay_qzv_vscode\u001b[0;34m(filepath_qzv)\u001b[0m\n\u001b[1;32m     97\u001b[0m         \u001b[0;31m# path2html = emperor_file\u001b[0m\u001b[0;34m\u001b[0m\u001b[0;34m\u001b[0m\u001b[0;34m\u001b[0m\u001b[0m\n\u001b[1;32m     98\u001b[0m         \u001b[0mclean_up\u001b[0m\u001b[0;34m(\u001b[0m\u001b[0mfile_names\u001b[0m\u001b[0;34m)\u001b[0m\u001b[0;34m\u001b[0m\u001b[0;34m\u001b[0m\u001b[0m\n\u001b[0;32m---> 99\u001b[0;31m         \u001b[0;32mraise\u001b[0m \u001b[0mValueError\u001b[0m\u001b[0;34m(\u001b[0m\u001b[0;34m\"Emperor files can not be displayed in VSCode\"\u001b[0m\u001b[0;34m)\u001b[0m\u001b[0;34m\u001b[0m\u001b[0;34m\u001b[0m\u001b[0m\n\u001b[0m\u001b[1;32m    100\u001b[0m     \u001b[0;32melse\u001b[0m\u001b[0;34m:\u001b[0m\u001b[0;34m\u001b[0m\u001b[0;34m\u001b[0m\u001b[0m\n\u001b[1;32m    101\u001b[0m         \u001b[0;31m# display index\u001b[0m\u001b[0;34m\u001b[0m\u001b[0;34m\u001b[0m\u001b[0;34m\u001b[0m\u001b[0m\n",
      "\u001b[0;31mValueError\u001b[0m: Emperor files can not be displayed in VSCode"
     ]
    }
   ],
   "source": [
    "path_file = os.path.join('sample-qzv', 'unweighted_unifrac_emperor.qzv')\n",
    "ls_files = display.display_qzv_vscode(path_file)"
   ]
  }
 ],
 "metadata": {
  "interpreter": {
   "hash": "6c21f9231e3e69007b331b5d4c7e490a6dba62a8777383ccc003576537b07d8e"
  },
  "kernelspec": {
   "name": "python3",
   "display_name": "Python 3.8.10 64-bit"
  },
  "language_info": {
   "codemirror_mode": {
    "name": "ipython",
    "version": 3
   },
   "file_extension": ".py",
   "mimetype": "text/x-python",
   "name": "python",
   "nbconvert_exporter": "python",
   "pygments_lexer": "ipython3",
   "version": "3.8.10"
  },
  "toc": {
   "base_numbering": 1,
   "nav_menu": {},
   "number_sections": true,
   "sideBar": true,
   "skip_h1_title": false,
   "title_cell": "Table of Contents",
   "title_sidebar": "Contents",
   "toc_cell": false,
   "toc_position": {},
   "toc_section_display": true,
   "toc_window_display": false
  }
 },
 "nbformat": 4,
 "nbformat_minor": 2
}