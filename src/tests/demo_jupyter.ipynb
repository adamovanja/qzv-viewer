{
 "cells": [
  {
   "cell_type": "markdown",
   "metadata": {},
   "source": [
    "# Demonstrating qzv-viewier"
   ]
  },
  {
   "cell_type": "code",
   "execution_count": 1,
   "metadata": {},
   "outputs": [],
   "source": [
    "from qzv_viewer import display\n",
    "import os"
   ]
  },
  {
   "cell_type": "markdown",
   "metadata": {},
   "source": [
    "## Demo: Jupyter notebook"
   ]
  },
  {
   "cell_type": "code",
   "execution_count": 2,
   "metadata": {},
   "outputs": [
    {
     "output_type": "stream",
     "name": "stdout",
     "text": [
      "\u001b[32mExtracted sample-qzv/accuracy_results.qzv to directory extract/d7d6079b-6b81-436a-88c6-b6fa128a1165\u001b[0m\n"
     ]
    },
    {
     "output_type": "execute_result",
     "data": {
      "text/plain": [
       "<IPython.lib.display.IFrame at 0x7f7f4b9bcee0>"
      ],
      "text/html": "\n        <iframe\n            width=\"950\"\n            height=\"600\"\n            src=\"extract/d7d6079b-6b81-436a-88c6-b6fa128a1165/data/index.html\"\n            frameborder=\"0\"\n            allowfullscreen\n        ></iframe>\n        "
     },
     "metadata": {},
     "execution_count": 2
    }
   ],
   "source": [
    "path_file = os.path.join('sample-qzv', 'accuracy_results.qzv')\n",
    "display.display_qzv(path_file)"
   ]
  },
  {
   "cell_type": "code",
   "execution_count": 3,
   "metadata": {},
   "outputs": [
    {
     "output_type": "stream",
     "name": "stdout",
     "text": [
      "\u001b[32mExtracted sample-qzv/heatmap.qzv to directory extract/601667c9-3d46-46bc-b4e2-fc652efa2b09\u001b[0m\n"
     ]
    },
    {
     "output_type": "execute_result",
     "data": {
      "text/plain": [
       "<IPython.lib.display.IFrame at 0x7f7f4b9b7fd0>"
      ],
      "text/html": "\n        <iframe\n            width=\"950\"\n            height=\"600\"\n            src=\"extract/601667c9-3d46-46bc-b4e2-fc652efa2b09/data/index.html\"\n            frameborder=\"0\"\n            allowfullscreen\n        ></iframe>\n        "
     },
     "metadata": {},
     "execution_count": 3
    }
   ],
   "source": [
    "path_file = os.path.join('sample-qzv', 'heatmap.qzv')\n",
    "display.display_qzv(path_file)"
   ]
  },
  {
   "cell_type": "code",
   "execution_count": 4,
   "metadata": {},
   "outputs": [
    {
     "output_type": "stream",
     "name": "stdout",
     "text": [
      "\u001b[32mExtracted sample-qzv/unweighted_unifrac_emperor.qzv to directory extract/88faffc6-cdae-4675-9cf1-449f466c0acc\u001b[0m\n"
     ]
    },
    {
     "output_type": "execute_result",
     "data": {
      "text/plain": [
       "<IPython.lib.display.IFrame at 0x7f7f4b9bc550>"
      ],
      "text/html": "\n        <iframe\n            width=\"950\"\n            height=\"600\"\n            src=\"extract/88faffc6-cdae-4675-9cf1-449f466c0acc/data/emperor.html\"\n            frameborder=\"0\"\n            allowfullscreen\n        ></iframe>\n        "
     },
     "metadata": {},
     "execution_count": 4
    }
   ],
   "source": [
    "path_file = os.path.join('sample-qzv', 'unweighted_unifrac_emperor.qzv')\n",
    "display.display_qzv(path_file)"
   ]
  }
 ],
 "metadata": {
  "interpreter": {
   "hash": "6c21f9231e3e69007b331b5d4c7e490a6dba62a8777383ccc003576537b07d8e"
  },
  "kernelspec": {
   "name": "python3",
   "display_name": "Python 3.8.10 64-bit"
  },
  "language_info": {
   "codemirror_mode": {
    "name": "ipython",
    "version": 3
   },
   "file_extension": ".py",
   "mimetype": "text/x-python",
   "name": "python",
   "nbconvert_exporter": "python",
   "pygments_lexer": "ipython3",
   "version": "3.8.10"
  },
  "toc": {
   "base_numbering": 1,
   "nav_menu": {},
   "number_sections": true,
   "sideBar": true,
   "skip_h1_title": false,
   "title_cell": "Table of Contents",
   "title_sidebar": "Contents",
   "toc_cell": false,
   "toc_position": {},
   "toc_section_display": true,
   "toc_window_display": false
  }
 },
 "nbformat": 4,
 "nbformat_minor": 2
}